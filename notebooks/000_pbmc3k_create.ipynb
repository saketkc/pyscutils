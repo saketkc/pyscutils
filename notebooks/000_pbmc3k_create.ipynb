{
 "cells": [
  {
   "cell_type": "code",
   "execution_count": 1,
   "metadata": {
    "execution": {
     "iopub.execute_input": "2020-11-18T23:59:11.832563Z",
     "iopub.status.busy": "2020-11-18T23:59:11.831957Z",
     "iopub.status.idle": "2020-11-18T23:59:33.387705Z",
     "shell.execute_reply": "2020-11-18T23:59:33.385974Z",
     "shell.execute_reply.started": "2020-11-18T23:59:11.832498Z"
    }
   },
   "outputs": [],
   "source": [
    "import scanpy as sc"
   ]
  },
  {
   "cell_type": "code",
   "execution_count": 5,
   "metadata": {
    "execution": {
     "iopub.execute_input": "2020-11-19T00:00:34.960342Z",
     "iopub.status.busy": "2020-11-19T00:00:34.959759Z",
     "iopub.status.idle": "2020-11-19T00:00:35.051904Z",
     "shell.execute_reply": "2020-11-19T00:00:35.050898Z",
     "shell.execute_reply.started": "2020-11-19T00:00:34.960281Z"
    }
   },
   "outputs": [],
   "source": [
    "data = sc.read_h5ad(\"../data/pbmc3k_RAW_counts.h5ad\")"
   ]
  },
  {
   "cell_type": "code",
   "execution_count": 10,
   "metadata": {
    "execution": {
     "iopub.execute_input": "2020-11-19T00:04:48.159443Z",
     "iopub.status.busy": "2020-11-19T00:04:48.158822Z",
     "iopub.status.idle": "2020-11-19T00:04:48.911389Z",
     "shell.execute_reply": "2020-11-19T00:04:48.910496Z",
     "shell.execute_reply.started": "2020-11-19T00:04:48.159382Z"
    }
   },
   "outputs": [],
   "source": []
  },
  {
   "cell_type": "code",
   "execution_count": 16,
   "metadata": {
    "execution": {
     "iopub.execute_input": "2020-11-19T00:06:07.313379Z",
     "iopub.status.busy": "2020-11-19T00:06:07.312818Z",
     "iopub.status.idle": "2020-11-19T00:06:08.747803Z",
     "shell.execute_reply": "2020-11-19T00:06:08.746285Z",
     "shell.execute_reply.started": "2020-11-19T00:06:07.313321Z"
    }
   },
   "outputs": [],
   "source": [
    "df = data.to_df().T.astype(int).reset_index()\n",
    "df[\"gene_name\"] = df[\"index\"]\n",
    "df = df.set_index(\"gene_name\")\n",
    "df = df.reset_index()"
   ]
  },
  {
   "cell_type": "code",
   "execution_count": 18,
   "metadata": {
    "execution": {
     "iopub.execute_input": "2020-11-19T00:06:41.139817Z",
     "iopub.status.busy": "2020-11-19T00:06:41.139320Z",
     "iopub.status.idle": "2020-11-19T00:06:51.627243Z",
     "shell.execute_reply": "2020-11-19T00:06:51.623776Z",
     "shell.execute_reply.started": "2020-11-19T00:06:41.139758Z"
    }
   },
   "outputs": [],
   "source": [
    "df.to_csv(\"../data/pbmc3k_counts.tsv\", index=False, header=False, sep=\" \")"
   ]
  }
 ],
 "metadata": {
  "kernelspec": {
   "display_name": "Python [conda env:scvi5]",
   "language": "python",
   "name": "conda-env-scvi5-py"
  },
  "language_info": {
   "codemirror_mode": {
    "name": "ipython",
    "version": 3
   },
   "file_extension": ".py",
   "mimetype": "text/x-python",
   "name": "python",
   "nbconvert_exporter": "python",
   "pygments_lexer": "ipython3",
   "version": "3.6.11"
  }
 },
 "nbformat": 4,
 "nbformat_minor": 4
}
