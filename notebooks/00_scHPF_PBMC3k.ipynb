{
 "cells": [
  {
   "cell_type": "code",
   "execution_count": 15,
   "metadata": {
    "execution": {
     "iopub.execute_input": "2020-11-19T00:30:09.730406Z",
     "iopub.status.busy": "2020-11-19T00:30:09.729863Z",
     "iopub.status.idle": "2020-11-19T00:30:10.001488Z",
     "shell.execute_reply": "2020-11-19T00:30:10.000212Z",
     "shell.execute_reply.started": "2020-11-19T00:30:09.730348Z"
    }
   },
   "outputs": [
    {
     "name": "stdout",
     "output_type": "stream",
     "text": [
      "Populating the interactive namespace from numpy and matplotlib\n"
     ]
    },
    {
     "name": "stderr",
     "output_type": "stream",
     "text": [
      "/gpfs/commons/home/schoudhary/software/anaconda3/envs/schpf/lib/python3.7/site-packages/IPython/core/magics/pylab.py:161: UserWarning: pylab import has clobbered these variables: ['plot']\n",
      "`%matplotlib` prevents importing * from pylab and numpy\n",
      "  \"\\n`%matplotlib` prevents importing * from pylab and numpy\"\n"
     ]
    }
   ],
   "source": [
    "%pylab inline\n",
    "import pandas as pd\n",
    "import umap"
   ]
  },
  {
   "cell_type": "code",
   "execution_count": 16,
   "metadata": {
    "execution": {
     "iopub.execute_input": "2020-11-19T00:30:11.730540Z",
     "iopub.status.busy": "2020-11-19T00:30:11.730037Z",
     "iopub.status.idle": "2020-11-19T00:30:11.848409Z",
     "shell.execute_reply": "2020-11-19T00:30:11.847361Z",
     "shell.execute_reply.started": "2020-11-19T00:30:11.730485Z"
    }
   },
   "outputs": [
    {
     "data": {
      "text/plain": [
       "(2700, 13)"
      ]
     },
     "execution_count": 16,
     "metadata": {},
     "output_type": "execute_result"
    }
   ],
   "source": [
    "cell_scores = pd.read_csv(\"../data/pbmc3k_counts_prep_train_score/cell_score.txt\", header=None, sep=\"\\t\")\n",
    "cell_scores.shape"
   ]
  },
  {
   "cell_type": "code",
   "execution_count": 17,
   "metadata": {
    "execution": {
     "iopub.execute_input": "2020-11-19T00:30:13.046796Z",
     "iopub.status.busy": "2020-11-19T00:30:13.046288Z",
     "iopub.status.idle": "2020-11-19T00:30:13.083727Z",
     "shell.execute_reply": "2020-11-19T00:30:13.082654Z",
     "shell.execute_reply.started": "2020-11-19T00:30:13.046740Z"
    }
   },
   "outputs": [
    {
     "data": {
      "text/html": [
       "<div>\n",
       "<style scoped>\n",
       "    .dataframe tbody tr th:only-of-type {\n",
       "        vertical-align: middle;\n",
       "    }\n",
       "\n",
       "    .dataframe tbody tr th {\n",
       "        vertical-align: top;\n",
       "    }\n",
       "\n",
       "    .dataframe thead th {\n",
       "        text-align: right;\n",
       "    }\n",
       "</style>\n",
       "<table border=\"1\" class=\"dataframe\">\n",
       "  <thead>\n",
       "    <tr style=\"text-align: right;\">\n",
       "      <th></th>\n",
       "      <th>0</th>\n",
       "      <th>1</th>\n",
       "      <th>2</th>\n",
       "      <th>3</th>\n",
       "      <th>4</th>\n",
       "      <th>5</th>\n",
       "      <th>6</th>\n",
       "      <th>7</th>\n",
       "      <th>8</th>\n",
       "      <th>9</th>\n",
       "      <th>10</th>\n",
       "      <th>11</th>\n",
       "      <th>12</th>\n",
       "    </tr>\n",
       "  </thead>\n",
       "  <tbody>\n",
       "    <tr>\n",
       "      <th>0</th>\n",
       "      <td>0.000927</td>\n",
       "      <td>0.275074</td>\n",
       "      <td>0.298336</td>\n",
       "      <td>0.235938</td>\n",
       "      <td>0.589074</td>\n",
       "      <td>0.000913</td>\n",
       "      <td>1.185467</td>\n",
       "      <td>0.017218</td>\n",
       "      <td>0.039240</td>\n",
       "      <td>0.000809</td>\n",
       "      <td>0.662670</td>\n",
       "      <td>1.030958</td>\n",
       "      <td>0.559968</td>\n",
       "    </tr>\n",
       "    <tr>\n",
       "      <th>1</th>\n",
       "      <td>0.319321</td>\n",
       "      <td>0.638783</td>\n",
       "      <td>0.020260</td>\n",
       "      <td>0.051550</td>\n",
       "      <td>0.106546</td>\n",
       "      <td>2.344926</td>\n",
       "      <td>0.318203</td>\n",
       "      <td>0.149437</td>\n",
       "      <td>0.000345</td>\n",
       "      <td>0.051781</td>\n",
       "      <td>0.526701</td>\n",
       "      <td>0.000452</td>\n",
       "      <td>0.370144</td>\n",
       "    </tr>\n",
       "    <tr>\n",
       "      <th>2</th>\n",
       "      <td>0.305121</td>\n",
       "      <td>0.468975</td>\n",
       "      <td>0.027962</td>\n",
       "      <td>0.916680</td>\n",
       "      <td>1.029906</td>\n",
       "      <td>0.000617</td>\n",
       "      <td>1.159876</td>\n",
       "      <td>0.000792</td>\n",
       "      <td>0.013803</td>\n",
       "      <td>0.064295</td>\n",
       "      <td>0.184995</td>\n",
       "      <td>0.724370</td>\n",
       "      <td>0.000268</td>\n",
       "    </tr>\n",
       "    <tr>\n",
       "      <th>3</th>\n",
       "      <td>0.693069</td>\n",
       "      <td>0.217138</td>\n",
       "      <td>0.043638</td>\n",
       "      <td>0.135212</td>\n",
       "      <td>0.000482</td>\n",
       "      <td>0.000700</td>\n",
       "      <td>0.031575</td>\n",
       "      <td>1.099877</td>\n",
       "      <td>0.723599</td>\n",
       "      <td>1.609046</td>\n",
       "      <td>0.141831</td>\n",
       "      <td>0.079920</td>\n",
       "      <td>0.121288</td>\n",
       "    </tr>\n",
       "    <tr>\n",
       "      <th>4</th>\n",
       "      <td>0.001411</td>\n",
       "      <td>0.954939</td>\n",
       "      <td>2.304626</td>\n",
       "      <td>0.001260</td>\n",
       "      <td>0.083050</td>\n",
       "      <td>0.001413</td>\n",
       "      <td>1.257544</td>\n",
       "      <td>0.049808</td>\n",
       "      <td>0.236360</td>\n",
       "      <td>0.001245</td>\n",
       "      <td>0.000808</td>\n",
       "      <td>0.001656</td>\n",
       "      <td>0.000624</td>\n",
       "    </tr>\n",
       "    <tr>\n",
       "      <th>...</th>\n",
       "      <td>...</td>\n",
       "      <td>...</td>\n",
       "      <td>...</td>\n",
       "      <td>...</td>\n",
       "      <td>...</td>\n",
       "      <td>...</td>\n",
       "      <td>...</td>\n",
       "      <td>...</td>\n",
       "      <td>...</td>\n",
       "      <td>...</td>\n",
       "      <td>...</td>\n",
       "      <td>...</td>\n",
       "      <td>...</td>\n",
       "    </tr>\n",
       "    <tr>\n",
       "      <th>2695</th>\n",
       "      <td>0.255775</td>\n",
       "      <td>0.486467</td>\n",
       "      <td>0.015795</td>\n",
       "      <td>0.045800</td>\n",
       "      <td>0.000382</td>\n",
       "      <td>0.132730</td>\n",
       "      <td>0.153902</td>\n",
       "      <td>0.964627</td>\n",
       "      <td>2.348172</td>\n",
       "      <td>0.000491</td>\n",
       "      <td>0.044521</td>\n",
       "      <td>0.190239</td>\n",
       "      <td>0.259016</td>\n",
       "    </tr>\n",
       "    <tr>\n",
       "      <th>2696</th>\n",
       "      <td>0.000544</td>\n",
       "      <td>2.132950</td>\n",
       "      <td>0.000964</td>\n",
       "      <td>0.361880</td>\n",
       "      <td>0.009836</td>\n",
       "      <td>1.304122</td>\n",
       "      <td>0.608784</td>\n",
       "      <td>0.000667</td>\n",
       "      <td>0.000439</td>\n",
       "      <td>0.072569</td>\n",
       "      <td>0.000305</td>\n",
       "      <td>0.129631</td>\n",
       "      <td>0.275326</td>\n",
       "    </tr>\n",
       "    <tr>\n",
       "      <th>2697</th>\n",
       "      <td>0.050756</td>\n",
       "      <td>0.160028</td>\n",
       "      <td>0.001808</td>\n",
       "      <td>0.384001</td>\n",
       "      <td>0.000704</td>\n",
       "      <td>3.533029</td>\n",
       "      <td>0.000912</td>\n",
       "      <td>0.001266</td>\n",
       "      <td>0.034113</td>\n",
       "      <td>0.062268</td>\n",
       "      <td>0.000619</td>\n",
       "      <td>0.666222</td>\n",
       "      <td>0.000449</td>\n",
       "    </tr>\n",
       "    <tr>\n",
       "      <th>2698</th>\n",
       "      <td>0.001790</td>\n",
       "      <td>0.002095</td>\n",
       "      <td>0.003274</td>\n",
       "      <td>0.001538</td>\n",
       "      <td>0.635366</td>\n",
       "      <td>3.071234</td>\n",
       "      <td>0.001615</td>\n",
       "      <td>0.350075</td>\n",
       "      <td>0.001426</td>\n",
       "      <td>0.149462</td>\n",
       "      <td>0.000986</td>\n",
       "      <td>0.673864</td>\n",
       "      <td>0.000724</td>\n",
       "    </tr>\n",
       "    <tr>\n",
       "      <th>2699</th>\n",
       "      <td>0.180973</td>\n",
       "      <td>0.801189</td>\n",
       "      <td>0.002100</td>\n",
       "      <td>0.531077</td>\n",
       "      <td>1.166549</td>\n",
       "      <td>0.001171</td>\n",
       "      <td>0.232345</td>\n",
       "      <td>0.001502</td>\n",
       "      <td>0.045298</td>\n",
       "      <td>0.237074</td>\n",
       "      <td>0.277656</td>\n",
       "      <td>0.647681</td>\n",
       "      <td>0.770990</td>\n",
       "    </tr>\n",
       "  </tbody>\n",
       "</table>\n",
       "<p>2700 rows × 13 columns</p>\n",
       "</div>"
      ],
      "text/plain": [
       "            0         1         2         3         4         5         6   \\\n",
       "0     0.000927  0.275074  0.298336  0.235938  0.589074  0.000913  1.185467   \n",
       "1     0.319321  0.638783  0.020260  0.051550  0.106546  2.344926  0.318203   \n",
       "2     0.305121  0.468975  0.027962  0.916680  1.029906  0.000617  1.159876   \n",
       "3     0.693069  0.217138  0.043638  0.135212  0.000482  0.000700  0.031575   \n",
       "4     0.001411  0.954939  2.304626  0.001260  0.083050  0.001413  1.257544   \n",
       "...        ...       ...       ...       ...       ...       ...       ...   \n",
       "2695  0.255775  0.486467  0.015795  0.045800  0.000382  0.132730  0.153902   \n",
       "2696  0.000544  2.132950  0.000964  0.361880  0.009836  1.304122  0.608784   \n",
       "2697  0.050756  0.160028  0.001808  0.384001  0.000704  3.533029  0.000912   \n",
       "2698  0.001790  0.002095  0.003274  0.001538  0.635366  3.071234  0.001615   \n",
       "2699  0.180973  0.801189  0.002100  0.531077  1.166549  0.001171  0.232345   \n",
       "\n",
       "            7         8         9         10        11        12  \n",
       "0     0.017218  0.039240  0.000809  0.662670  1.030958  0.559968  \n",
       "1     0.149437  0.000345  0.051781  0.526701  0.000452  0.370144  \n",
       "2     0.000792  0.013803  0.064295  0.184995  0.724370  0.000268  \n",
       "3     1.099877  0.723599  1.609046  0.141831  0.079920  0.121288  \n",
       "4     0.049808  0.236360  0.001245  0.000808  0.001656  0.000624  \n",
       "...        ...       ...       ...       ...       ...       ...  \n",
       "2695  0.964627  2.348172  0.000491  0.044521  0.190239  0.259016  \n",
       "2696  0.000667  0.000439  0.072569  0.000305  0.129631  0.275326  \n",
       "2697  0.001266  0.034113  0.062268  0.000619  0.666222  0.000449  \n",
       "2698  0.350075  0.001426  0.149462  0.000986  0.673864  0.000724  \n",
       "2699  0.001502  0.045298  0.237074  0.277656  0.647681  0.770990  \n",
       "\n",
       "[2700 rows x 13 columns]"
      ]
     },
     "execution_count": 17,
     "metadata": {},
     "output_type": "execute_result"
    }
   ],
   "source": [
    "cell_scores"
   ]
  },
  {
   "cell_type": "code",
   "execution_count": 18,
   "metadata": {
    "execution": {
     "iopub.execute_input": "2020-11-19T00:30:15.728088Z",
     "iopub.status.busy": "2020-11-19T00:30:15.727664Z",
     "iopub.status.idle": "2020-11-19T00:30:28.454630Z",
     "shell.execute_reply": "2020-11-19T00:30:28.453262Z",
     "shell.execute_reply.started": "2020-11-19T00:30:15.728034Z"
    }
   },
   "outputs": [
    {
     "data": {
      "text/html": [
       "<div>\n",
       "<style scoped>\n",
       "    .dataframe tbody tr th:only-of-type {\n",
       "        vertical-align: middle;\n",
       "    }\n",
       "\n",
       "    .dataframe tbody tr th {\n",
       "        vertical-align: top;\n",
       "    }\n",
       "\n",
       "    .dataframe thead th {\n",
       "        text-align: right;\n",
       "    }\n",
       "</style>\n",
       "<table border=\"1\" class=\"dataframe\">\n",
       "  <thead>\n",
       "    <tr style=\"text-align: right;\">\n",
       "      <th></th>\n",
       "      <th>0</th>\n",
       "      <th>1</th>\n",
       "    </tr>\n",
       "  </thead>\n",
       "  <tbody>\n",
       "    <tr>\n",
       "      <th>0</th>\n",
       "      <td>-2.032237</td>\n",
       "      <td>-0.014529</td>\n",
       "    </tr>\n",
       "    <tr>\n",
       "      <th>1</th>\n",
       "      <td>2.041424</td>\n",
       "      <td>17.691858</td>\n",
       "    </tr>\n",
       "    <tr>\n",
       "      <th>2</th>\n",
       "      <td>-2.823821</td>\n",
       "      <td>-1.254042</td>\n",
       "    </tr>\n",
       "    <tr>\n",
       "      <th>3</th>\n",
       "      <td>16.194624</td>\n",
       "      <td>3.757219</td>\n",
       "    </tr>\n",
       "    <tr>\n",
       "      <th>4</th>\n",
       "      <td>-3.119784</td>\n",
       "      <td>4.119405</td>\n",
       "    </tr>\n",
       "    <tr>\n",
       "      <th>...</th>\n",
       "      <td>...</td>\n",
       "      <td>...</td>\n",
       "    </tr>\n",
       "    <tr>\n",
       "      <th>2695</th>\n",
       "      <td>16.916712</td>\n",
       "      <td>6.317258</td>\n",
       "    </tr>\n",
       "    <tr>\n",
       "      <th>2696</th>\n",
       "      <td>2.195585</td>\n",
       "      <td>16.105976</td>\n",
       "    </tr>\n",
       "    <tr>\n",
       "      <th>2697</th>\n",
       "      <td>2.690191</td>\n",
       "      <td>18.990200</td>\n",
       "    </tr>\n",
       "    <tr>\n",
       "      <th>2698</th>\n",
       "      <td>2.813909</td>\n",
       "      <td>19.039862</td>\n",
       "    </tr>\n",
       "    <tr>\n",
       "      <th>2699</th>\n",
       "      <td>0.625275</td>\n",
       "      <td>-2.252399</td>\n",
       "    </tr>\n",
       "  </tbody>\n",
       "</table>\n",
       "<p>2700 rows × 2 columns</p>\n",
       "</div>"
      ],
      "text/plain": [
       "              0          1\n",
       "0     -2.032237  -0.014529\n",
       "1      2.041424  17.691858\n",
       "2     -2.823821  -1.254042\n",
       "3     16.194624   3.757219\n",
       "4     -3.119784   4.119405\n",
       "...         ...        ...\n",
       "2695  16.916712   6.317258\n",
       "2696   2.195585  16.105976\n",
       "2697   2.690191  18.990200\n",
       "2698   2.813909  19.039862\n",
       "2699   0.625275  -2.252399\n",
       "\n",
       "[2700 rows x 2 columns]"
      ]
     },
     "execution_count": 18,
     "metadata": {},
     "output_type": "execute_result"
    }
   ],
   "source": [
    "reducer = umap.UMAP(metric='cosine', n_neighbors=30, )\n",
    "embedding = reducer.fit_transform(cell_scores)\n",
    "embedding_df = pd.DataFrame(embedding, columns=[\"0\", \"1\"])\n",
    "embedding_df"
   ]
  },
  {
   "cell_type": "code",
   "execution_count": 19,
   "metadata": {
    "execution": {
     "iopub.execute_input": "2020-11-19T00:30:28.457674Z",
     "iopub.status.busy": "2020-11-19T00:30:28.457234Z",
     "iopub.status.idle": "2020-11-19T00:30:28.463112Z",
     "shell.execute_reply": "2020-11-19T00:30:28.462078Z",
     "shell.execute_reply.started": "2020-11-19T00:30:28.457598Z"
    }
   },
   "outputs": [],
   "source": [
    "import proplot as plot\n",
    "from palettable.colorbrewer.qualitative import Paired_12"
   ]
  },
  {
   "cell_type": "code",
   "execution_count": 20,
   "metadata": {
    "execution": {
     "iopub.execute_input": "2020-11-19T00:30:28.465637Z",
     "iopub.status.busy": "2020-11-19T00:30:28.465232Z",
     "iopub.status.idle": "2020-11-19T00:30:28.498677Z",
     "shell.execute_reply": "2020-11-19T00:30:28.497621Z",
     "shell.execute_reply.started": "2020-11-19T00:30:28.465587Z"
    }
   },
   "outputs": [],
   "source": [
    "sct_clusters = pd.read_csv(\"../../single-cell-playground//data/pbmc3k/processed_for_scvi/SCT_seuratclusters.tsv\", sep=\"\\t\") \n",
    "all_clusters = sorted(sct_clusters.seurat_clusters.unique())\n",
    "cluster_colors = dict(zip(all_clusters, sorted(Paired_12.hex_colors)))\n",
    "sct_clusters['color'] = sct_clusters.seurat_clusters.map(lambda x: cluster_colors[x])\n"
   ]
  },
  {
   "cell_type": "code",
   "execution_count": 21,
   "metadata": {
    "execution": {
     "iopub.execute_input": "2020-11-19T00:30:28.500999Z",
     "iopub.status.busy": "2020-11-19T00:30:28.500600Z",
     "iopub.status.idle": "2020-11-19T00:30:28.507251Z",
     "shell.execute_reply": "2020-11-19T00:30:28.506245Z",
     "shell.execute_reply.started": "2020-11-19T00:30:28.500947Z"
    }
   },
   "outputs": [
    {
     "data": {
      "text/plain": [
       "[0, 1, 2, 3, 4, 5, 6, 7, 8, 9, 10, 11]"
      ]
     },
     "execution_count": 21,
     "metadata": {},
     "output_type": "execute_result"
    }
   ],
   "source": [
    "all_clusters"
   ]
  },
  {
   "cell_type": "code",
   "execution_count": 22,
   "metadata": {
    "execution": {
     "iopub.execute_input": "2020-11-19T00:30:28.509180Z",
     "iopub.status.busy": "2020-11-19T00:30:28.508788Z",
     "iopub.status.idle": "2020-11-19T00:30:29.230643Z",
     "shell.execute_reply": "2020-11-19T00:30:29.229435Z",
     "shell.execute_reply.started": "2020-11-19T00:30:28.509129Z"
    }
   },
   "outputs": [
    {
     "data": {
      "text/plain": [
       "<matplotlib.collections.PathCollection at 0x7f9c4b861cd0>"
      ]
     },
     "execution_count": 22,
     "metadata": {},
     "output_type": "execute_result"
    },
    {
     "data": {
      "image/png": "[encoded data removed]",
      "text/plain": [
       "<Figure size 640x480 with 1 Axes>"
      ]
     },
     "metadata": {
      "image/png": {
       "height": 480,
       "width": 640
      }
     },
     "output_type": "display_data"
    }
   ],
   "source": [
    "plt.scatter(embedding_df[\"0\"], embedding_df[\"1\"], color= sct_clusters['color'], s=3)"
   ]
  }
 ],
 "metadata": {
  "kernelspec": {
   "display_name": "Python [conda env:schpf]",
   "language": "python",
   "name": "conda-env-schpf-py"
  },
  "language_info": {
   "codemirror_mode": {
    "name": "ipython",
    "version": 3
   },
   "file_extension": ".py",
   "mimetype": "text/x-python",
   "name": "python",
   "nbconvert_exporter": "python",
   "pygments_lexer": "ipython3",
   "version": "3.7.8"
  }
 },
 "nbformat": 4,
 "nbformat_minor": 4
}
